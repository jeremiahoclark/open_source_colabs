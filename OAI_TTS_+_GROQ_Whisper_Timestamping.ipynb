{
  "nbformat": 4,
  "nbformat_minor": 0,
  "metadata": {
    "colab": {
      "provenance": [],
      "authorship_tag": "ABX9TyN5PnAQqkegdEEVFR8jP99f",
      "include_colab_link": true
    },
    "kernelspec": {
      "name": "python3",
      "display_name": "Python 3"
    },
    "language_info": {
      "name": "python"
    }
  },
  "cells": [
    {
      "cell_type": "markdown",
      "metadata": {
        "id": "view-in-github",
        "colab_type": "text"
      },
      "source": [
        "<a href=\"https://colab.research.google.com/github/jeremiahoclark/open_source_colabs/blob/main/OAI_TTS_%2B_GROQ_Whisper_Timestamping.ipynb\" target=\"_parent\"><img src=\"https://colab.research.google.com/assets/colab-badge.svg\" alt=\"Open In Colab\"/></a>"
      ]
    },
    {
      "cell_type": "code",
      "source": [
        "# Word and Audio Tracking Experiment\n",
        "# Using OpenAI TTS and Groq Whisper API\n",
        "\n",
        "# Install required libraries\n",
        "!pip install openai groq"
      ],
      "metadata": {
        "colab": {
          "base_uri": "https://localhost:8080/"
        },
        "id": "x--RT7iF7ZCb",
        "outputId": "042d396d-d958-4ec3-fd0d-a3fcd5a95534"
      },
      "execution_count": 2,
      "outputs": [
        {
          "output_type": "stream",
          "name": "stdout",
          "text": [
            "Collecting openai\n",
            "  Using cached openai-1.35.13-py3-none-any.whl (328 kB)\n",
            "Collecting groq\n",
            "  Downloading groq-0.9.0-py3-none-any.whl (103 kB)\n",
            "\u001b[?25l     \u001b[90m━━━━━━━━━━━━━━━━━━━━━━━━━━━━━━━━━━━━━━━━\u001b[0m \u001b[32m0.0/103.5 kB\u001b[0m \u001b[31m?\u001b[0m eta \u001b[36m-:--:--\u001b[0m\r\u001b[2K     \u001b[90m━━━━━━━━━━━━━━━━━━━━━━━━━━━━━━━━━━━━━━━━\u001b[0m \u001b[32m103.5/103.5 kB\u001b[0m \u001b[31m3.3 MB/s\u001b[0m eta \u001b[36m0:00:00\u001b[0m\n",
            "\u001b[?25hRequirement already satisfied: anyio<5,>=3.5.0 in /usr/local/lib/python3.10/dist-packages (from openai) (3.7.1)\n",
            "Requirement already satisfied: distro<2,>=1.7.0 in /usr/lib/python3/dist-packages (from openai) (1.7.0)\n",
            "Collecting httpx<1,>=0.23.0 (from openai)\n",
            "  Downloading httpx-0.27.0-py3-none-any.whl (75 kB)\n",
            "\u001b[2K     \u001b[90m━━━━━━━━━━━━━━━━━━━━━━━━━━━━━━━━━━━━━━━━\u001b[0m \u001b[32m75.6/75.6 kB\u001b[0m \u001b[31m4.9 MB/s\u001b[0m eta \u001b[36m0:00:00\u001b[0m\n",
            "\u001b[?25hRequirement already satisfied: pydantic<3,>=1.9.0 in /usr/local/lib/python3.10/dist-packages (from openai) (2.8.2)\n",
            "Requirement already satisfied: sniffio in /usr/local/lib/python3.10/dist-packages (from openai) (1.3.1)\n",
            "Requirement already satisfied: tqdm>4 in /usr/local/lib/python3.10/dist-packages (from openai) (4.66.4)\n",
            "Requirement already satisfied: typing-extensions<5,>=4.7 in /usr/local/lib/python3.10/dist-packages (from openai) (4.12.2)\n",
            "Requirement already satisfied: idna>=2.8 in /usr/local/lib/python3.10/dist-packages (from anyio<5,>=3.5.0->openai) (3.7)\n",
            "Requirement already satisfied: exceptiongroup in /usr/local/lib/python3.10/dist-packages (from anyio<5,>=3.5.0->openai) (1.2.1)\n",
            "Requirement already satisfied: certifi in /usr/local/lib/python3.10/dist-packages (from httpx<1,>=0.23.0->openai) (2024.7.4)\n",
            "Collecting httpcore==1.* (from httpx<1,>=0.23.0->openai)\n",
            "  Downloading httpcore-1.0.5-py3-none-any.whl (77 kB)\n",
            "\u001b[2K     \u001b[90m━━━━━━━━━━━━━━━━━━━━━━━━━━━━━━━━━━━━━━━━\u001b[0m \u001b[32m77.9/77.9 kB\u001b[0m \u001b[31m7.6 MB/s\u001b[0m eta \u001b[36m0:00:00\u001b[0m\n",
            "\u001b[?25hCollecting h11<0.15,>=0.13 (from httpcore==1.*->httpx<1,>=0.23.0->openai)\n",
            "  Downloading h11-0.14.0-py3-none-any.whl (58 kB)\n",
            "\u001b[2K     \u001b[90m━━━━━━━━━━━━━━━━━━━━━━━━━━━━━━━━━━━━━━━━\u001b[0m \u001b[32m58.3/58.3 kB\u001b[0m \u001b[31m5.1 MB/s\u001b[0m eta \u001b[36m0:00:00\u001b[0m\n",
            "\u001b[?25hRequirement already satisfied: annotated-types>=0.4.0 in /usr/local/lib/python3.10/dist-packages (from pydantic<3,>=1.9.0->openai) (0.7.0)\n",
            "Requirement already satisfied: pydantic-core==2.20.1 in /usr/local/lib/python3.10/dist-packages (from pydantic<3,>=1.9.0->openai) (2.20.1)\n",
            "Installing collected packages: h11, httpcore, httpx, openai, groq\n",
            "Successfully installed groq-0.9.0 h11-0.14.0 httpcore-1.0.5 httpx-0.27.0 openai-1.35.13\n"
          ]
        }
      ]
    },
    {
      "cell_type": "code",
      "execution_count": 29,
      "metadata": {
        "id": "SsWMKCQI7ThI"
      },
      "outputs": [],
      "source": [
        "# Import necessary libraries\n",
        "import os\n",
        "import groq\n",
        "\n",
        "from pathlib import Path\n",
        "from openai import OpenAI\n",
        "from google.colab import files\n",
        "from google.colab import userdata\n",
        "from difflib import SequenceMatcher"
      ]
    },
    {
      "cell_type": "code",
      "source": [
        "# Set up API keys (you'll need to input these)\n",
        "openai_api_key = userdata.get('OPENAI_API_KEY')\n",
        "groq_api_key = userdata.get('GROQ_API_KEY')\n",
        "\n",
        "client = OpenAI(api_key=openai_api_key)\n",
        "\n",
        "# 1. Create a sample text file\n",
        "sample_text = \"\"\"Hercules, son of Zeus and Alcmene, was a demigod known for his immense strength and courageous feats. From a young age, he exhibited signs of his divine heritage. As a baby, Hercules strangled two snakes sent by Hera, Zeus's wife, to kill him in his cradle. This was a clear indication of his extraordinary powers. Growing up, Hercules was trained in various skills by the finest teachers in Greece. He learned archery from Eurytus, wrestling from Autolycus, and music from Linus. However, Hercules's strength was both a gift and a curse.\"\"\"\n",
        "\n",
        "with open(\"sample_text.txt\", \"w\") as f:\n",
        "    f.write(sample_text)\n",
        "\n"
      ],
      "metadata": {
        "id": "llaXfCie7csz"
      },
      "execution_count": 21,
      "outputs": []
    },
    {
      "cell_type": "code",
      "source": [
        "# 2. Convert text to speech using OpenAI's TTS API (Updated with streaming)\n",
        "def text_to_speech(text, output_file=\"speech.mp3\"):\n",
        "    speech_file_path = Path(output_file)\n",
        "    response = client.audio.speech.create(\n",
        "        model=\"tts-1\",\n",
        "        voice=\"alloy\",\n",
        "        input=text\n",
        "    )\n",
        "    response.stream_to_file(speech_file_path)\n",
        "    return str(speech_file_path)\n",
        "\n",
        "audio_file = text_to_speech(sample_text)\n",
        "\n",
        "# 3. Transcribe audio and get timestamps using Groq's Whisper API\n",
        "def transcribe_audio(audio_file):\n",
        "    groq_client = groq.Client(api_key=groq_api_key)\n",
        "    with open(audio_file, \"rb\") as audio:\n",
        "        transcription = groq_client.audio.transcriptions.create(\n",
        "            file=audio,\n",
        "            model=\"whisper-large-v3\",\n",
        "            response_format=\"verbose_json\"\n",
        "        )\n",
        "    return transcription\n",
        "\n",
        "transcription_result = transcribe_audio(audio_file)\n",
        "\n"
      ],
      "metadata": {
        "colab": {
          "base_uri": "https://localhost:8080/"
        },
        "id": "gOBkEakp7f2m",
        "outputId": "bfd53e00-01ce-4f2a-cb48-7f76848a0069"
      },
      "execution_count": 23,
      "outputs": [
        {
          "output_type": "stream",
          "name": "stderr",
          "text": [
            "<ipython-input-23-5d7fc3a701d4>:9: DeprecationWarning: Due to a bug, this method doesn't actually stream the response content, `.with_streaming_response.method()` should be used instead\n",
            "  response.stream_to_file(speech_file_path)\n"
          ]
        }
      ]
    },
    {
      "cell_type": "code",
      "source": [
        "# 4. Analyze and display results\n",
        "print(\"Original Text:\")\n",
        "print(sample_text)\n",
        "print(\"\\nTranscribed Text:\")\n",
        "print(transcription_result)\n"
      ],
      "metadata": {
        "colab": {
          "base_uri": "https://localhost:8080/"
        },
        "id": "zsiH25g97i5Y",
        "outputId": "81498496-76e7-4169-ee08-241348868151"
      },
      "execution_count": 27,
      "outputs": [
        {
          "output_type": "stream",
          "name": "stdout",
          "text": [
            "Original Text:\n",
            "Hercules, son of Zeus and Alcmene, was a demigod known for his immense strength and courageous feats. From a young age, he exhibited signs of his divine heritage. As a baby, Hercules strangled two snakes sent by Hera, Zeus's wife, to kill him in his cradle. This was a clear indication of his extraordinary powers. Growing up, Hercules was trained in various skills by the finest teachers in Greece. He learned archery from Eurytus, wrestling from Autolycus, and music from Linus. However, Hercules's strength was both a gift and a curse.\n",
            "\n",
            "Transcribed Text:\n",
            "Transcription(text=\" Hercules, son of Zeus and Alcmene, was a demigod known for his immense strength and courageous feats. From a young age, he exhibited signs of his divine heritage. As a baby, Hercules strangled two snakes sent by Hera, Zeus' wife, to kill him in his cradle. This was a clear indication of his extraordinary powers. Growing up, Hercules was trained in various skills by the finest teachers in Greece. He learned archery from Eurytus, wrestling from Autolichus, and music from Linus. However, Hercules' strength was both a gift and a curse.\", task='transcribe', language='English', duration=33.16, segments=[{'id': 0, 'seek': 0, 'start': 0, 'end': 6.14, 'text': ' Hercules, son of Zeus and Alcmene, was a demigod known for his immense strength and courageous feats.', 'tokens': [50365, 3204, 11570, 11, 1872, 295, 35003, 293, 967, 15210, 1450, 11, 390, 257, 1371, 328, 378, 2570, 337, 702, 22920, 3800, 293, 33233, 579, 1720, 13, 50672], 'temperature': 0, 'avg_logprob': -0.1025689, 'compression_ratio': 1.6216216, 'no_speech_prob': 0.043884855}, {'id': 1, 'seek': 0, 'start': 6.62, 'end': 9.64, 'text': ' From a young age, he exhibited signs of his divine heritage.', 'tokens': [50696, 3358, 257, 2037, 3205, 11, 415, 49446, 7880, 295, 702, 13678, 16040, 13, 50847], 'temperature': 0, 'avg_logprob': -0.1025689, 'compression_ratio': 1.6216216, 'no_speech_prob': 0.043884855}, {'id': 2, 'seek': 0, 'start': 10.14, 'end': 15.54, 'text': \" As a baby, Hercules strangled two snakes sent by Hera, Zeus' wife, to kill him in his cradle.\", 'tokens': [50872, 1018, 257, 3186, 11, 3204, 11570, 24404, 1493, 732, 21817, 2279, 538, 30808, 11, 35003, 6, 3836, 11, 281, 1961, 796, 294, 702, 48081, 13, 51142], 'temperature': 0, 'avg_logprob': -0.1025689, 'compression_ratio': 1.6216216, 'no_speech_prob': 0.043884855}, {'id': 3, 'seek': 0, 'start': 15.94, 'end': 18.66, 'text': ' This was a clear indication of his extraordinary powers.', 'tokens': [51162, 639, 390, 257, 1850, 18877, 295, 702, 10581, 8674, 13, 51298], 'temperature': 0, 'avg_logprob': -0.1025689, 'compression_ratio': 1.6216216, 'no_speech_prob': 0.043884855}, {'id': 4, 'seek': 0, 'start': 19.02, 'end': 23.24, 'text': ' Growing up, Hercules was trained in various skills by the finest teachers in Greece.', 'tokens': [51316, 32569, 493, 11, 3204, 11570, 390, 8895, 294, 3683, 3942, 538, 264, 28141, 6023, 294, 17214, 13, 51527], 'temperature': 0, 'avg_logprob': -0.1025689, 'compression_ratio': 1.6216216, 'no_speech_prob': 0.043884855}, {'id': 5, 'seek': 0, 'start': 23.88, 'end': 28.5, 'text': ' He learned archery from Eurytus, wrestling from Autolichus, and music from Linus.', 'tokens': [51559, 634, 3264, 3912, 2109, 490, 462, 2598, 83, 301, 11, 19274, 490, 6049, 401, 480, 301, 11, 293, 1318, 490, 9355, 301, 13, 51790], 'temperature': 0, 'avg_logprob': -0.1025689, 'compression_ratio': 1.6216216, 'no_speech_prob': 0.043884855}, {'id': 6, 'seek': 2850, 'start': 28.5, 'end': 32.88, 'text': \" However, Hercules' strength was both a gift and a curse.\", 'tokens': [50365, 2908, 11, 3204, 11570, 6, 3800, 390, 1293, 257, 5306, 293, 257, 17139, 13, 50584], 'temperature': 0, 'avg_logprob': -0.25727206, 'compression_ratio': 0.91803277, 'no_speech_prob': 0.008570718}], x_groq={'id': 'req_01j2kzp0w8eecaydakb5atb54f'})\n"
          ]
        }
      ]
    },
    {
      "cell_type": "code",
      "source": [
        "# 4. Analyze and display results\n",
        "print(\"Original Text:\")\n",
        "print(sample_text)\n",
        "print(\"\\nTranscribed Text:\")\n",
        "print(transcription_result.text)\n",
        "\n",
        "print(\"\\nDetailed Transcription Information:\")\n",
        "print(f\"Task: {transcription_result.task}\")\n",
        "print(f\"Detected Language: {transcription_result.language}\")\n",
        "print(f\"Audio Duration: {transcription_result.duration:.2f} seconds\")\n",
        "\n",
        "print(\"\\nSegments and Word Timestamps:\")\n",
        "for segment in transcription_result.segments:\n",
        "    print(f\"\\nSegment {segment['id']}:\")\n",
        "    print(f\"  Start: {segment['start']:.2f}s, End: {segment['end']:.2f}s\")\n",
        "    print(f\"  Text: {segment['text']}\")\n",
        "    if 'words' in segment:\n",
        "        print(\"  Word-level timestamps:\")\n",
        "        for word in segment['words']:\n",
        "            print(f\"    '{word['word']}': Start: {word['start']:.2f}s, End: {word['end']:.2f}s\")\n",
        "    else:\n",
        "        print(\"  Word-level timestamps not available for this segment.\")\n",
        "\n",
        "# 5. Compare original text with transcribed text\n",
        "similarity = SequenceMatcher(None, sample_text, transcription_result.text).ratio()\n",
        "print(f\"\\nSimilarity between original and transcribed text: {similarity:.2%}\")\n",
        "\n",
        "# 6. Additional Analysis\n",
        "word_count_original = len(sample_text.split())\n",
        "word_count_transcribed = len(transcription_result.text.split())\n",
        "\n",
        "print(f\"\\nWord count in original text: {word_count_original}\")\n",
        "print(f\"Word count in transcribed text: {word_count_transcribed}\")\n",
        "print(f\"Difference in word count: {abs(word_count_original - word_count_transcribed)}\")\n",
        "\n",
        "# Calculate average words per second\n",
        "words_per_second = word_count_transcribed / transcription_result.duration\n",
        "print(f\"\\nAverage words per second: {words_per_second:.2f}\")\n",
        "\n",
        "# Identify potential issues or interesting points\n",
        "if word_count_original != word_count_transcribed:\n",
        "    print(\"\\nNote: The word count differs between the original and transcribed text. This could be due to:\")\n",
        "    print(\"- Misrecognition of words\")\n",
        "    print(\"- Punctuation differences\")\n",
        "    print(\"- Handling of contractions or compound words\")\n",
        "\n",
        "if similarity < 0.95:\n",
        "    print(\"\\nNote: The similarity between original and transcribed text is below 95%. This could indicate:\")\n",
        "    print(\"- Significant transcription errors\")\n",
        "    print(\"- Background noise or unclear audio\")\n",
        "    print(\"- Accent or pronunciation issues\")\n"
      ],
      "metadata": {
        "colab": {
          "base_uri": "https://localhost:8080/"
        },
        "id": "UtVCCutI80yC",
        "outputId": "ce44efb9-e3ab-4d91-f82c-7b5385566f8a"
      },
      "execution_count": 31,
      "outputs": [
        {
          "output_type": "stream",
          "name": "stdout",
          "text": [
            "Original Text:\n",
            "Hercules, son of Zeus and Alcmene, was a demigod known for his immense strength and courageous feats. From a young age, he exhibited signs of his divine heritage. As a baby, Hercules strangled two snakes sent by Hera, Zeus's wife, to kill him in his cradle. This was a clear indication of his extraordinary powers. Growing up, Hercules was trained in various skills by the finest teachers in Greece. He learned archery from Eurytus, wrestling from Autolycus, and music from Linus. However, Hercules's strength was both a gift and a curse.\n",
            "\n",
            "Transcribed Text:\n",
            " Hercules, son of Zeus and Alcmene, was a demigod known for his immense strength and courageous feats. From a young age, he exhibited signs of his divine heritage. As a baby, Hercules strangled two snakes sent by Hera, Zeus' wife, to kill him in his cradle. This was a clear indication of his extraordinary powers. Growing up, Hercules was trained in various skills by the finest teachers in Greece. He learned archery from Eurytus, wrestling from Autolichus, and music from Linus. However, Hercules' strength was both a gift and a curse.\n",
            "\n",
            "Detailed Transcription Information:\n",
            "Task: transcribe\n",
            "Detected Language: English\n",
            "Audio Duration: 33.16 seconds\n",
            "\n",
            "Segments and Word Timestamps:\n",
            "\n",
            "Segment 0:\n",
            "  Start: 0.00s, End: 6.14s\n",
            "  Text:  Hercules, son of Zeus and Alcmene, was a demigod known for his immense strength and courageous feats.\n",
            "  Word-level timestamps not available for this segment.\n",
            "\n",
            "Segment 1:\n",
            "  Start: 6.62s, End: 9.64s\n",
            "  Text:  From a young age, he exhibited signs of his divine heritage.\n",
            "  Word-level timestamps not available for this segment.\n",
            "\n",
            "Segment 2:\n",
            "  Start: 10.14s, End: 15.54s\n",
            "  Text:  As a baby, Hercules strangled two snakes sent by Hera, Zeus' wife, to kill him in his cradle.\n",
            "  Word-level timestamps not available for this segment.\n",
            "\n",
            "Segment 3:\n",
            "  Start: 15.94s, End: 18.66s\n",
            "  Text:  This was a clear indication of his extraordinary powers.\n",
            "  Word-level timestamps not available for this segment.\n",
            "\n",
            "Segment 4:\n",
            "  Start: 19.02s, End: 23.24s\n",
            "  Text:  Growing up, Hercules was trained in various skills by the finest teachers in Greece.\n",
            "  Word-level timestamps not available for this segment.\n",
            "\n",
            "Segment 5:\n",
            "  Start: 23.88s, End: 28.50s\n",
            "  Text:  He learned archery from Eurytus, wrestling from Autolichus, and music from Linus.\n",
            "  Word-level timestamps not available for this segment.\n",
            "\n",
            "Segment 6:\n",
            "  Start: 28.50s, End: 32.88s\n",
            "  Text:  However, Hercules' strength was both a gift and a curse.\n",
            "  Word-level timestamps not available for this segment.\n",
            "\n",
            "Similarity between original and transcribed text: 99.26%\n",
            "\n",
            "Word count in original text: 91\n",
            "Word count in transcribed text: 91\n",
            "Difference in word count: 0\n",
            "\n",
            "Average words per second: 2.74\n"
          ]
        }
      ]
    },
    {
      "cell_type": "code",
      "source": [],
      "metadata": {
        "id": "VqgICJmz_ch6"
      },
      "execution_count": null,
      "outputs": []
    }
  ]
}