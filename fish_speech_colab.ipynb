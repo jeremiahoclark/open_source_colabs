{
  "cells": [
    {
      "cell_type": "markdown",
      "metadata": {
        "id": "view-in-github",
        "colab_type": "text"
      },
      "source": [
        "<a href=\"https://colab.research.google.com/github/jeremiahoclark/open_source_colabs/blob/main/fish_speech_colab.ipynb\" target=\"_parent\"><img src=\"https://colab.research.google.com/assets/colab-badge.svg\" alt=\"Open In Colab\"/></a>"
      ]
    },
    {
      "cell_type": "markdown",
      "metadata": {
        "id": "BnlS5xwIvfs3"
      },
      "source": [
        "# Fish Speech - Colab Version\n",
        "\n",
        "This notebook has been adapted for Google Colab from the original Fish Speech repository."
      ]
    },
    {
      "cell_type": "markdown",
      "metadata": {
        "id": "oE8YxXNHvfs4"
      },
      "source": [
        "## Initial Setup\n",
        "\n",
        "First, let's install the required dependencies and clone the repository."
      ]
    },
    {
      "cell_type": "code",
      "execution_count": 1,
      "metadata": {
        "colab": {
          "base_uri": "https://localhost:8080/"
        },
        "id": "VDCAuWEovfs4",
        "outputId": "edb34219-1dbc-4695-d1c5-c0ce420cc432"
      },
      "outputs": [
        {
          "output_type": "stream",
          "name": "stdout",
          "text": [
            "Requirement already satisfied: torch in /usr/local/lib/python3.10/dist-packages (2.5.0+cu121)\n",
            "Requirement already satisfied: torchaudio in /usr/local/lib/python3.10/dist-packages (2.5.0+cu121)\n",
            "Requirement already satisfied: transformers in /usr/local/lib/python3.10/dist-packages (4.44.2)\n",
            "Requirement already satisfied: accelerate in /usr/local/lib/python3.10/dist-packages (0.34.2)\n",
            "Collecting gradio\n",
            "  Downloading gradio-5.4.0-py3-none-any.whl.metadata (16 kB)\n",
            "Requirement already satisfied: filelock in /usr/local/lib/python3.10/dist-packages (from torch) (3.16.1)\n",
            "Requirement already satisfied: typing-extensions>=4.8.0 in /usr/local/lib/python3.10/dist-packages (from torch) (4.12.2)\n",
            "Requirement already satisfied: networkx in /usr/local/lib/python3.10/dist-packages (from torch) (3.4.2)\n",
            "Requirement already satisfied: jinja2 in /usr/local/lib/python3.10/dist-packages (from torch) (3.1.4)\n",
            "Requirement already satisfied: fsspec in /usr/local/lib/python3.10/dist-packages (from torch) (2024.10.0)\n",
            "Requirement already satisfied: sympy==1.13.1 in /usr/local/lib/python3.10/dist-packages (from torch) (1.13.1)\n",
            "Requirement already satisfied: mpmath<1.4,>=1.1.0 in /usr/local/lib/python3.10/dist-packages (from sympy==1.13.1->torch) (1.3.0)\n",
            "Requirement already satisfied: huggingface-hub<1.0,>=0.23.2 in /usr/local/lib/python3.10/dist-packages (from transformers) (0.24.7)\n",
            "Requirement already satisfied: numpy>=1.17 in /usr/local/lib/python3.10/dist-packages (from transformers) (1.26.4)\n",
            "Requirement already satisfied: packaging>=20.0 in /usr/local/lib/python3.10/dist-packages (from transformers) (24.1)\n",
            "Requirement already satisfied: pyyaml>=5.1 in /usr/local/lib/python3.10/dist-packages (from transformers) (6.0.2)\n",
            "Requirement already satisfied: regex!=2019.12.17 in /usr/local/lib/python3.10/dist-packages (from transformers) (2024.9.11)\n",
            "Requirement already satisfied: requests in /usr/local/lib/python3.10/dist-packages (from transformers) (2.32.3)\n",
            "Requirement already satisfied: safetensors>=0.4.1 in /usr/local/lib/python3.10/dist-packages (from transformers) (0.4.5)\n",
            "Requirement already satisfied: tokenizers<0.20,>=0.19 in /usr/local/lib/python3.10/dist-packages (from transformers) (0.19.1)\n",
            "Requirement already satisfied: tqdm>=4.27 in /usr/local/lib/python3.10/dist-packages (from transformers) (4.66.6)\n",
            "Requirement already satisfied: psutil in /usr/local/lib/python3.10/dist-packages (from accelerate) (5.9.5)\n",
            "Collecting aiofiles<24.0,>=22.0 (from gradio)\n",
            "  Downloading aiofiles-23.2.1-py3-none-any.whl.metadata (9.7 kB)\n",
            "Requirement already satisfied: anyio<5.0,>=3.0 in /usr/local/lib/python3.10/dist-packages (from gradio) (3.7.1)\n",
            "Collecting fastapi<1.0,>=0.115.2 (from gradio)\n",
            "  Downloading fastapi-0.115.4-py3-none-any.whl.metadata (27 kB)\n",
            "Collecting ffmpy (from gradio)\n",
            "  Downloading ffmpy-0.4.0-py3-none-any.whl.metadata (2.9 kB)\n",
            "Collecting gradio-client==1.4.2 (from gradio)\n",
            "  Downloading gradio_client-1.4.2-py3-none-any.whl.metadata (7.1 kB)\n",
            "Requirement already satisfied: httpx>=0.24.1 in /usr/local/lib/python3.10/dist-packages (from gradio) (0.27.2)\n",
            "Collecting huggingface-hub<1.0,>=0.23.2 (from transformers)\n",
            "  Downloading huggingface_hub-0.26.2-py3-none-any.whl.metadata (13 kB)\n",
            "Collecting markupsafe~=2.0 (from gradio)\n",
            "  Downloading MarkupSafe-2.1.5-cp310-cp310-manylinux_2_17_x86_64.manylinux2014_x86_64.whl.metadata (3.0 kB)\n",
            "Requirement already satisfied: orjson~=3.0 in /usr/local/lib/python3.10/dist-packages (from gradio) (3.10.10)\n",
            "Requirement already satisfied: pandas<3.0,>=1.0 in /usr/local/lib/python3.10/dist-packages (from gradio) (2.2.2)\n",
            "Requirement already satisfied: pillow<12.0,>=8.0 in /usr/local/lib/python3.10/dist-packages (from gradio) (10.4.0)\n",
            "Requirement already satisfied: pydantic>=2.0 in /usr/local/lib/python3.10/dist-packages (from gradio) (2.9.2)\n",
            "Collecting pydub (from gradio)\n",
            "  Downloading pydub-0.25.1-py2.py3-none-any.whl.metadata (1.4 kB)\n",
            "Collecting python-multipart==0.0.12 (from gradio)\n",
            "  Downloading python_multipart-0.0.12-py3-none-any.whl.metadata (1.9 kB)\n",
            "Collecting ruff>=0.2.2 (from gradio)\n",
            "  Downloading ruff-0.7.2-py3-none-manylinux_2_17_x86_64.manylinux2014_x86_64.whl.metadata (25 kB)\n",
            "Collecting safehttpx<1.0,>=0.1.1 (from gradio)\n",
            "  Downloading safehttpx-0.1.1-py3-none-any.whl.metadata (4.1 kB)\n",
            "Collecting semantic-version~=2.0 (from gradio)\n",
            "  Downloading semantic_version-2.10.0-py2.py3-none-any.whl.metadata (9.7 kB)\n",
            "Collecting starlette<1.0,>=0.40.0 (from gradio)\n",
            "  Downloading starlette-0.41.2-py3-none-any.whl.metadata (6.0 kB)\n",
            "Collecting tomlkit==0.12.0 (from gradio)\n",
            "  Downloading tomlkit-0.12.0-py3-none-any.whl.metadata (2.7 kB)\n",
            "Requirement already satisfied: typer<1.0,>=0.12 in /usr/local/lib/python3.10/dist-packages (from gradio) (0.12.5)\n",
            "Collecting uvicorn>=0.14.0 (from gradio)\n",
            "  Downloading uvicorn-0.32.0-py3-none-any.whl.metadata (6.6 kB)\n",
            "Collecting websockets<13.0,>=10.0 (from gradio-client==1.4.2->gradio)\n",
            "  Downloading websockets-12.0-cp310-cp310-manylinux_2_5_x86_64.manylinux1_x86_64.manylinux_2_17_x86_64.manylinux2014_x86_64.whl.metadata (6.6 kB)\n",
            "Requirement already satisfied: idna>=2.8 in /usr/local/lib/python3.10/dist-packages (from anyio<5.0,>=3.0->gradio) (3.10)\n",
            "Requirement already satisfied: sniffio>=1.1 in /usr/local/lib/python3.10/dist-packages (from anyio<5.0,>=3.0->gradio) (1.3.1)\n",
            "Requirement already satisfied: exceptiongroup in /usr/local/lib/python3.10/dist-packages (from anyio<5.0,>=3.0->gradio) (1.2.2)\n",
            "Requirement already satisfied: certifi in /usr/local/lib/python3.10/dist-packages (from httpx>=0.24.1->gradio) (2024.8.30)\n",
            "Requirement already satisfied: httpcore==1.* in /usr/local/lib/python3.10/dist-packages (from httpx>=0.24.1->gradio) (1.0.6)\n",
            "Requirement already satisfied: h11<0.15,>=0.13 in /usr/local/lib/python3.10/dist-packages (from httpcore==1.*->httpx>=0.24.1->gradio) (0.14.0)\n",
            "Requirement already satisfied: python-dateutil>=2.8.2 in /usr/local/lib/python3.10/dist-packages (from pandas<3.0,>=1.0->gradio) (2.8.2)\n",
            "Requirement already satisfied: pytz>=2020.1 in /usr/local/lib/python3.10/dist-packages (from pandas<3.0,>=1.0->gradio) (2024.2)\n",
            "Requirement already satisfied: tzdata>=2022.7 in /usr/local/lib/python3.10/dist-packages (from pandas<3.0,>=1.0->gradio) (2024.2)\n",
            "Requirement already satisfied: annotated-types>=0.6.0 in /usr/local/lib/python3.10/dist-packages (from pydantic>=2.0->gradio) (0.7.0)\n",
            "Requirement already satisfied: pydantic-core==2.23.4 in /usr/local/lib/python3.10/dist-packages (from pydantic>=2.0->gradio) (2.23.4)\n",
            "Requirement already satisfied: click>=8.0.0 in /usr/local/lib/python3.10/dist-packages (from typer<1.0,>=0.12->gradio) (8.1.7)\n",
            "Requirement already satisfied: shellingham>=1.3.0 in /usr/local/lib/python3.10/dist-packages (from typer<1.0,>=0.12->gradio) (1.5.4)\n",
            "Requirement already satisfied: rich>=10.11.0 in /usr/local/lib/python3.10/dist-packages (from typer<1.0,>=0.12->gradio) (13.9.3)\n",
            "Requirement already satisfied: charset-normalizer<4,>=2 in /usr/local/lib/python3.10/dist-packages (from requests->transformers) (3.4.0)\n",
            "Requirement already satisfied: urllib3<3,>=1.21.1 in /usr/local/lib/python3.10/dist-packages (from requests->transformers) (2.2.3)\n",
            "Requirement already satisfied: six>=1.5 in /usr/local/lib/python3.10/dist-packages (from python-dateutil>=2.8.2->pandas<3.0,>=1.0->gradio) (1.16.0)\n",
            "Requirement already satisfied: markdown-it-py>=2.2.0 in /usr/local/lib/python3.10/dist-packages (from rich>=10.11.0->typer<1.0,>=0.12->gradio) (3.0.0)\n",
            "Requirement already satisfied: pygments<3.0.0,>=2.13.0 in /usr/local/lib/python3.10/dist-packages (from rich>=10.11.0->typer<1.0,>=0.12->gradio) (2.18.0)\n",
            "Requirement already satisfied: mdurl~=0.1 in /usr/local/lib/python3.10/dist-packages (from markdown-it-py>=2.2.0->rich>=10.11.0->typer<1.0,>=0.12->gradio) (0.1.2)\n",
            "Downloading gradio-5.4.0-py3-none-any.whl (56.7 MB)\n",
            "\u001b[2K   \u001b[90m━━━━━━━━━━━━━━━━━━━━━━━━━━━━━━━━━━━━━━━━\u001b[0m \u001b[32m56.7/56.7 MB\u001b[0m \u001b[31m16.2 MB/s\u001b[0m eta \u001b[36m0:00:00\u001b[0m\n",
            "\u001b[?25hDownloading gradio_client-1.4.2-py3-none-any.whl (319 kB)\n",
            "\u001b[2K   \u001b[90m━━━━━━━━━━━━━━━━━━━━━━━━━━━━━━━━━━━━━━━━\u001b[0m \u001b[32m319.8/319.8 kB\u001b[0m \u001b[31m17.7 MB/s\u001b[0m eta \u001b[36m0:00:00\u001b[0m\n",
            "\u001b[?25hDownloading python_multipart-0.0.12-py3-none-any.whl (23 kB)\n",
            "Downloading tomlkit-0.12.0-py3-none-any.whl (37 kB)\n",
            "Downloading aiofiles-23.2.1-py3-none-any.whl (15 kB)\n",
            "Downloading fastapi-0.115.4-py3-none-any.whl (94 kB)\n",
            "\u001b[2K   \u001b[90m━━━━━━━━━━━━━━━━━━━━━━━━━━━━━━━━━━━━━━━━\u001b[0m \u001b[32m94.7/94.7 kB\u001b[0m \u001b[31m9.8 MB/s\u001b[0m eta \u001b[36m0:00:00\u001b[0m\n",
            "\u001b[?25hDownloading huggingface_hub-0.26.2-py3-none-any.whl (447 kB)\n",
            "\u001b[2K   \u001b[90m━━━━━━━━━━━━━━━━━━━━━━━━━━━━━━━━━━━━━━━━\u001b[0m \u001b[32m447.5/447.5 kB\u001b[0m \u001b[31m25.1 MB/s\u001b[0m eta \u001b[36m0:00:00\u001b[0m\n",
            "\u001b[?25hDownloading MarkupSafe-2.1.5-cp310-cp310-manylinux_2_17_x86_64.manylinux2014_x86_64.whl (25 kB)\n",
            "Downloading ruff-0.7.2-py3-none-manylinux_2_17_x86_64.manylinux2014_x86_64.whl (11.0 MB)\n",
            "\u001b[2K   \u001b[90m━━━━━━━━━━━━━━━━━━━━━━━━━━━━━━━━━━━━━━━━\u001b[0m \u001b[32m11.0/11.0 MB\u001b[0m \u001b[31m81.5 MB/s\u001b[0m eta \u001b[36m0:00:00\u001b[0m\n",
            "\u001b[?25hDownloading safehttpx-0.1.1-py3-none-any.whl (8.4 kB)\n",
            "Downloading semantic_version-2.10.0-py2.py3-none-any.whl (15 kB)\n",
            "Downloading starlette-0.41.2-py3-none-any.whl (73 kB)\n",
            "\u001b[2K   \u001b[90m━━━━━━━━━━━━━━━━━━━━━━━━━━━━━━━━━━━━━━━━\u001b[0m \u001b[32m73.3/73.3 kB\u001b[0m \u001b[31m6.1 MB/s\u001b[0m eta \u001b[36m0:00:00\u001b[0m\n",
            "\u001b[?25hDownloading uvicorn-0.32.0-py3-none-any.whl (63 kB)\n",
            "\u001b[2K   \u001b[90m━━━━━━━━━━━━━━━━━━━━━━━━━━━━━━━━━━━━━━━━\u001b[0m \u001b[32m63.7/63.7 kB\u001b[0m \u001b[31m5.4 MB/s\u001b[0m eta \u001b[36m0:00:00\u001b[0m\n",
            "\u001b[?25hDownloading ffmpy-0.4.0-py3-none-any.whl (5.8 kB)\n",
            "Downloading pydub-0.25.1-py2.py3-none-any.whl (32 kB)\n",
            "Downloading websockets-12.0-cp310-cp310-manylinux_2_5_x86_64.manylinux1_x86_64.manylinux_2_17_x86_64.manylinux2014_x86_64.whl (130 kB)\n",
            "\u001b[2K   \u001b[90m━━━━━━━━━━━━━━━━━━━━━━━━━━━━━━━━━━━━━━━━\u001b[0m \u001b[32m130.2/130.2 kB\u001b[0m \u001b[31m10.6 MB/s\u001b[0m eta \u001b[36m0:00:00\u001b[0m\n",
            "\u001b[?25hInstalling collected packages: pydub, websockets, uvicorn, tomlkit, semantic-version, ruff, python-multipart, markupsafe, ffmpy, aiofiles, starlette, huggingface-hub, safehttpx, gradio-client, fastapi, gradio\n",
            "  Attempting uninstall: markupsafe\n",
            "    Found existing installation: MarkupSafe 3.0.2\n",
            "    Uninstalling MarkupSafe-3.0.2:\n",
            "      Successfully uninstalled MarkupSafe-3.0.2\n",
            "  Attempting uninstall: huggingface-hub\n",
            "    Found existing installation: huggingface-hub 0.24.7\n",
            "    Uninstalling huggingface-hub-0.24.7:\n",
            "      Successfully uninstalled huggingface-hub-0.24.7\n",
            "Successfully installed aiofiles-23.2.1 fastapi-0.115.4 ffmpy-0.4.0 gradio-5.4.0 gradio-client-1.4.2 huggingface-hub-0.26.2 markupsafe-2.1.5 pydub-0.25.1 python-multipart-0.0.12 ruff-0.7.2 safehttpx-0.1.1 semantic-version-2.10.0 starlette-0.41.2 tomlkit-0.12.0 uvicorn-0.32.0 websockets-12.0\n",
            "Cloning into 'fish-speech'...\n",
            "remote: Enumerating objects: 5017, done.\u001b[K\n",
            "remote: Counting objects: 100% (91/91), done.\u001b[K\n",
            "remote: Compressing objects: 100% (54/54), done.\u001b[K\n",
            "remote: Total 5017 (delta 34), reused 58 (delta 20), pack-reused 4926 (from 1)\u001b[K\n",
            "Receiving objects: 100% (5017/5017), 18.13 MiB | 7.46 MiB/s, done.\n",
            "Resolving deltas: 100% (3266/3266), done.\n"
          ]
        }
      ],
      "source": [
        "# Install required packages\n",
        "!pip install torch torchaudio transformers accelerate gradio\n",
        "\n",
        "# Clone the Fish Speech repository\n",
        "!git clone https://github.com/fishaudio/fish-speech.git\n",
        "!cd fish-speech"
      ]
    },
    {
      "cell_type": "markdown",
      "metadata": {
        "id": "jlDSHFlGvfs5"
      },
      "source": [
        "## Set UTF-8 Encoding"
      ]
    },
    {
      "cell_type": "code",
      "execution_count": 2,
      "metadata": {
        "colab": {
          "base_uri": "https://localhost:8080/",
          "height": 35
        },
        "id": "ylZQpAdzvfs5",
        "outputId": "78ce85ee-1439-49fa-d017-da7c2426870d"
      },
      "outputs": [
        {
          "output_type": "execute_result",
          "data": {
            "text/plain": [
              "'en_US.UTF-8'"
            ],
            "application/vnd.google.colaboratory.intrinsic+json": {
              "type": "string"
            }
          },
          "metadata": {},
          "execution_count": 2
        }
      ],
      "source": [
        "import locale\n",
        "locale.setlocale(locale.LC_ALL, 'en_US.UTF-8')"
      ]
    },
    {
      "cell_type": "markdown",
      "metadata": {
        "id": "avVt3zAIvfs5"
      },
      "source": [
        "## Download Model Checkpoints\n",
        "\n",
        "Now we'll download the model checkpoints from Hugging Face."
      ]
    },
    {
      "cell_type": "code",
      "execution_count": 3,
      "metadata": {
        "colab": {
          "base_uri": "https://localhost:8080/"
        },
        "id": "oeUDHbvnvfs6",
        "outputId": "503c2f29-e551-4b63-e607-cf0d1b3d4389"
      },
      "outputs": [
        {
          "output_type": "stream",
          "name": "stdout",
          "text": [
            "Fetching 8 files:   0% 0/8 [00:00<?, ?it/s]Downloading '.gitattributes' to 'checkpoints/fish-speech-1.4/.cache/huggingface/download/.gitattributes.a6344aac8c09253b3b630fb776ae94478aa0275b.incomplete'\n",
            "Downloading 'README.md' to 'checkpoints/fish-speech-1.4/.cache/huggingface/download/README.md.c70e58a0f6ae54f86a898f60b1d6264956a74b54.incomplete'\n",
            "Downloading 'config.json' to 'checkpoints/fish-speech-1.4/.cache/huggingface/download/config.json.966eef0416c72fbe6b2938856c28707e3710b072.incomplete'\n",
            "Downloading 'firefly-gan-vq-fsq-8x1024-21hz-generator.pth' to 'checkpoints/fish-speech-1.4/.cache/huggingface/download/firefly-gan-vq-fsq-8x1024-21hz-generator.pth.01b81dbf753224a156c3fe139b88bf0b9a0f54b11bee864f95e66511c3ccd754.incomplete'\n",
            "Downloading 'model.pth' to 'checkpoints/fish-speech-1.4/.cache/huggingface/download/model.pth.5792b78b48d1f92d0b2cef8f07aad6b7ac19db2aff23a2054a5cce1d019ab4fb.incomplete'\n",
            "Downloading 'special_tokens_map.json' to 'checkpoints/fish-speech-1.4/.cache/huggingface/download/special_tokens_map.json.afaceb358180a0ba4d0ae9bd3b915b1ed43aa99d.incomplete'\n",
            "Downloading 'tokenizer.json' to 'checkpoints/fish-speech-1.4/.cache/huggingface/download/tokenizer.json.1cc11817db7392d66ef4e47766ea7a887a9e4909.incomplete'\n",
            "Downloading 'tokenizer_config.json' to 'checkpoints/fish-speech-1.4/.cache/huggingface/download/tokenizer_config.json.3893b6bd0ce8c421066cb5895d88803a6d00fc33.incomplete'\n",
            "\n",
            ".gitattributes: 100% 1.52k/1.52k [00:00<00:00, 7.49MB/s]\n",
            "Download complete. Moving file to checkpoints/fish-speech-1.4/.gitattributes\n",
            "Fetching 8 files:  12% 1/8 [00:00<00:02,  2.61it/s]\n",
            "README.md: 100% 1.39k/1.39k [00:00<00:00, 8.83MB/s]\n",
            "Download complete. Moving file to checkpoints/fish-speech-1.4/README.md\n",
            "\n",
            "config.json: 100% 493/493 [00:00<00:00, 3.33MB/s]\n",
            "Download complete. Moving file to checkpoints/fish-speech-1.4/config.json\n",
            "\n",
            "special_tokens_map.json: 100% 449/449 [00:00<00:00, 2.89MB/s]\n",
            "Download complete. Moving file to checkpoints/fish-speech-1.4/special_tokens_map.json\n",
            "\n",
            "tokenizer_config.json: 100% 1.85k/1.85k [00:00<00:00, 15.0MB/s]\n",
            "Download complete. Moving file to checkpoints/fish-speech-1.4/tokenizer_config.json\n",
            "\n",
            "model.pth:   0% 0.00/989M [00:00<?, ?B/s]\u001b[A\n",
            "\n",
            "(…)fly-gan-vq-fsq-8x1024-21hz-generator.pth:   0% 0.00/189M [00:00<?, ?B/s]\u001b[A\u001b[A\n",
            "model.pth:   1% 10.5M/989M [00:00<00:22, 43.4MB/s]\u001b[A\n",
            "\n",
            "(…)fly-gan-vq-fsq-8x1024-21hz-generator.pth:   6% 10.5M/189M [00:00<00:04, 41.6MB/s]\u001b[A\u001b[A\n",
            "\n",
            "\n",
            "tokenizer.json:   0% 0.00/1.60M [00:00<?, ?B/s]\u001b[A\u001b[A\u001b[A\n",
            "model.pth:   2% 21.0M/989M [00:00<00:22, 43.0MB/s]\u001b[A\n",
            "\n",
            "(…)fly-gan-vq-fsq-8x1024-21hz-generator.pth:  11% 21.0M/189M [00:00<00:03, 42.0MB/s]\u001b[A\u001b[A\n",
            "model.pth:   3% 31.5M/989M [00:00<00:23, 41.4MB/s]\u001b[A\n",
            "\n",
            "(…)fly-gan-vq-fsq-8x1024-21hz-generator.pth:  17% 31.5M/189M [00:00<00:03, 40.7MB/s]\u001b[A\u001b[A\n",
            "model.pth:   4% 41.9M/989M [00:00<00:22, 42.0MB/s]\u001b[A\n",
            "\n",
            "(…)fly-gan-vq-fsq-8x1024-21hz-generator.pth:  22% 41.9M/189M [00:01<00:03, 40.9MB/s]\u001b[A\u001b[A\n",
            "model.pth:   5% 52.4M/989M [00:01<00:22, 41.4MB/s]\u001b[A\n",
            "\n",
            "(…)fly-gan-vq-fsq-8x1024-21hz-generator.pth:  28% 52.4M/189M [00:01<00:03, 41.2MB/s]\u001b[A\u001b[A\n",
            "\n",
            "\n",
            "tokenizer.json: 100% 1.60M/1.60M [00:01<00:00, 1.48MB/s]\n",
            "Download complete. Moving file to checkpoints/fish-speech-1.4/tokenizer.json\n",
            "\n",
            "model.pth:   6% 62.9M/989M [00:01<00:22, 41.9MB/s]\u001b[A\n",
            "\n",
            "(…)fly-gan-vq-fsq-8x1024-21hz-generator.pth:  33% 62.9M/189M [00:01<00:03, 40.6MB/s]\u001b[A\u001b[A\n",
            "model.pth:   7% 73.4M/989M [00:01<00:21, 42.1MB/s]\u001b[A\n",
            "\n",
            "(…)fly-gan-vq-fsq-8x1024-21hz-generator.pth:  39% 73.4M/189M [00:01<00:02, 40.9MB/s]\u001b[A\u001b[A\n",
            "model.pth:   8% 83.9M/989M [00:01<00:21, 42.1MB/s]\u001b[A\n",
            "model.pth:  10% 94.4M/989M [00:02<00:21, 40.9MB/s]\u001b[A\n",
            "\n",
            "(…)fly-gan-vq-fsq-8x1024-21hz-generator.pth:  44% 83.9M/189M [00:02<00:03, 28.7MB/s]\u001b[A\u001b[A\n",
            "model.pth:  11% 105M/989M [00:02<00:21, 41.3MB/s] \u001b[A\n",
            "\n",
            "(…)fly-gan-vq-fsq-8x1024-21hz-generator.pth:  50% 94.4M/189M [00:02<00:03, 31.3MB/s]\u001b[A\u001b[A\n",
            "model.pth:  12% 115M/989M [00:02<00:20, 41.7MB/s]\u001b[A\n",
            "\n",
            "(…)fly-gan-vq-fsq-8x1024-21hz-generator.pth:  56% 105M/189M [00:02<00:02, 34.0MB/s] \u001b[A\u001b[A\n",
            "model.pth:  13% 126M/989M [00:03<00:20, 41.3MB/s]\u001b[A\n",
            "\n",
            "(…)fly-gan-vq-fsq-8x1024-21hz-generator.pth:  61% 115M/189M [00:03<00:02, 36.3MB/s]\u001b[A\u001b[A\n",
            "model.pth:  14% 136M/989M [00:03<00:20, 41.3MB/s]\u001b[A\n",
            "\n",
            "(…)fly-gan-vq-fsq-8x1024-21hz-generator.pth:  67% 126M/189M [00:03<00:01, 37.8MB/s]\u001b[A\u001b[A\n",
            "model.pth:  15% 147M/989M [00:03<00:20, 41.7MB/s]\u001b[A\n",
            "\n",
            "(…)fly-gan-vq-fsq-8x1024-21hz-generator.pth:  72% 136M/189M [00:03<00:01, 39.0MB/s]\u001b[A\u001b[A\n",
            "model.pth:  16% 157M/989M [00:03<00:19, 41.9MB/s]\u001b[A\n",
            "\n",
            "(…)fly-gan-vq-fsq-8x1024-21hz-generator.pth:  78% 147M/189M [00:03<00:01, 37.9MB/s]\u001b[A\u001b[A\n",
            "model.pth:  17% 168M/989M [00:04<00:19, 41.4MB/s]\u001b[A\n",
            "\n",
            "(…)fly-gan-vq-fsq-8x1024-21hz-generator.pth:  83% 157M/189M [00:04<00:00, 39.1MB/s]\u001b[A\u001b[A\n",
            "model.pth:  18% 178M/989M [00:04<00:19, 41.5MB/s]\u001b[A\n",
            "\n",
            "(…)fly-gan-vq-fsq-8x1024-21hz-generator.pth:  89% 168M/189M [00:04<00:00, 38.7MB/s]\u001b[A\u001b[A\n",
            "model.pth:  19% 189M/989M [00:04<00:19, 41.8MB/s]\u001b[A\n",
            "\n",
            "(…)fly-gan-vq-fsq-8x1024-21hz-generator.pth:  95% 178M/189M [00:04<00:00, 39.2MB/s]\u001b[A\u001b[A\n",
            "model.pth:  20% 199M/989M [00:04<00:18, 42.0MB/s]\u001b[A\n",
            "\n",
            "(…)fly-gan-vq-fsq-8x1024-21hz-generator.pth: 100% 189M/189M [00:04<00:00, 37.8MB/s]\n",
            "Download complete. Moving file to checkpoints/fish-speech-1.4/firefly-gan-vq-fsq-8x1024-21hz-generator.pth\n",
            "Fetching 8 files:  50% 4/8 [00:05<00:05,  1.46s/it]\n",
            "model.pth:  21% 210M/989M [00:05<00:18, 41.5MB/s]\u001b[A\n",
            "model.pth:  22% 220M/989M [00:05<00:18, 41.6MB/s]\u001b[A\n",
            "model.pth:  23% 231M/989M [00:05<00:18, 41.2MB/s]\u001b[A\n",
            "model.pth:  24% 241M/989M [00:05<00:17, 41.6MB/s]\u001b[A\n",
            "model.pth:  25% 252M/989M [00:06<00:17, 41.7MB/s]\u001b[A\n",
            "model.pth:  27% 262M/989M [00:06<00:17, 41.9MB/s]\u001b[A\n",
            "model.pth:  28% 273M/989M [00:06<00:16, 42.2MB/s]\u001b[A\n",
            "model.pth:  29% 283M/989M [00:06<00:16, 42.3MB/s]\u001b[A\n",
            "model.pth:  30% 294M/989M [00:07<00:16, 42.0MB/s]\u001b[A\n",
            "model.pth:  31% 304M/989M [00:07<00:16, 42.3MB/s]\u001b[A\n",
            "model.pth:  32% 315M/989M [00:07<00:15, 42.3MB/s]\u001b[A\n",
            "model.pth:  33% 325M/989M [00:07<00:15, 41.6MB/s]\u001b[A\n",
            "model.pth:  34% 336M/989M [00:08<00:15, 41.1MB/s]\u001b[A\n",
            "model.pth:  35% 346M/989M [00:08<00:15, 41.8MB/s]\u001b[A\n",
            "model.pth:  36% 357M/989M [00:08<00:15, 41.5MB/s]\u001b[A\n",
            "model.pth:  37% 367M/989M [00:08<00:15, 41.4MB/s]\u001b[A\n",
            "model.pth:  38% 377M/989M [00:09<00:14, 41.9MB/s]\u001b[A\n",
            "model.pth:  39% 388M/989M [00:09<00:14, 41.9MB/s]\u001b[A\n",
            "model.pth:  40% 398M/989M [00:09<00:14, 41.3MB/s]\u001b[A\n",
            "model.pth:  41% 409M/989M [00:09<00:13, 41.5MB/s]\u001b[A\n",
            "model.pth:  42% 419M/989M [00:10<00:13, 41.9MB/s]\u001b[A\n",
            "model.pth:  43% 430M/989M [00:10<00:13, 42.0MB/s]\u001b[A\n",
            "model.pth:  45% 440M/989M [00:10<00:13, 41.9MB/s]\u001b[A\n",
            "model.pth:  46% 451M/989M [00:10<00:12, 42.2MB/s]\u001b[A\n",
            "model.pth:  47% 461M/989M [00:11<00:12, 42.3MB/s]\u001b[A\n",
            "model.pth:  48% 472M/989M [00:11<00:12, 42.5MB/s]\u001b[A\n",
            "model.pth:  49% 482M/989M [00:11<00:11, 42.4MB/s]\u001b[A\n",
            "model.pth:  50% 493M/989M [00:11<00:11, 42.5MB/s]\u001b[A\n",
            "model.pth:  51% 503M/989M [00:12<00:11, 42.7MB/s]\u001b[A\n",
            "model.pth:  52% 514M/989M [00:12<00:11, 42.7MB/s]\u001b[A\n",
            "model.pth:  53% 524M/989M [00:12<00:11, 40.2MB/s]\u001b[A\n",
            "model.pth:  54% 535M/989M [00:12<00:11, 40.0MB/s]\u001b[A\n",
            "model.pth:  55% 545M/989M [00:13<00:10, 40.6MB/s]\u001b[A\n",
            "model.pth:  56% 556M/989M [00:13<00:10, 41.1MB/s]\u001b[A\n",
            "model.pth:  57% 566M/989M [00:13<00:10, 40.9MB/s]\u001b[A\n",
            "model.pth:  58% 577M/989M [00:13<00:10, 41.1MB/s]\u001b[A\n",
            "model.pth:  59% 587M/989M [00:14<00:09, 41.3MB/s]\u001b[A\n",
            "model.pth:  60% 598M/989M [00:14<00:09, 41.2MB/s]\u001b[A\n",
            "model.pth:  61% 608M/989M [00:14<00:09, 41.3MB/s]\u001b[A\n",
            "model.pth:  63% 619M/989M [00:14<00:08, 41.7MB/s]\u001b[A\n",
            "model.pth:  64% 629M/989M [00:15<00:08, 41.5MB/s]\u001b[A\n",
            "model.pth:  65% 640M/989M [00:15<00:08, 41.7MB/s]\u001b[A\n",
            "model.pth:  66% 650M/989M [00:15<00:08, 41.6MB/s]\u001b[A\n",
            "model.pth:  67% 661M/989M [00:15<00:07, 41.8MB/s]\u001b[A\n",
            "model.pth:  68% 671M/989M [00:16<00:07, 41.7MB/s]\u001b[A\n",
            "model.pth:  69% 682M/989M [00:16<00:07, 41.5MB/s]\u001b[A\n",
            "model.pth:  70% 692M/989M [00:16<00:07, 41.4MB/s]\u001b[A\n",
            "model.pth:  71% 703M/989M [00:16<00:06, 41.6MB/s]\u001b[A\n",
            "model.pth:  72% 713M/989M [00:17<00:06, 41.8MB/s]\u001b[A\n",
            "model.pth:  73% 724M/989M [00:17<00:06, 42.4MB/s]\u001b[A\n",
            "model.pth:  74% 734M/989M [00:17<00:06, 42.3MB/s]\u001b[A\n",
            "model.pth:  75% 744M/989M [00:17<00:05, 42.2MB/s]\u001b[A\n",
            "model.pth:  76% 755M/989M [00:18<00:05, 42.4MB/s]\u001b[A\n",
            "model.pth:  77% 765M/989M [00:18<00:05, 42.5MB/s]\u001b[A\n",
            "model.pth:  78% 776M/989M [00:18<00:05, 42.6MB/s]\u001b[A\n",
            "model.pth:  80% 786M/989M [00:18<00:04, 42.4MB/s]\u001b[A\n",
            "model.pth:  81% 797M/989M [00:19<00:04, 42.5MB/s]\u001b[A\n",
            "model.pth:  82% 807M/989M [00:19<00:04, 42.5MB/s]\u001b[A\n",
            "model.pth:  83% 818M/989M [00:19<00:04, 40.9MB/s]\u001b[A\n",
            "model.pth:  84% 828M/989M [00:19<00:03, 41.1MB/s]\u001b[A\n",
            "model.pth:  85% 839M/989M [00:20<00:03, 41.6MB/s]\u001b[A\n",
            "model.pth:  86% 849M/989M [00:20<00:03, 41.8MB/s]\u001b[A\n",
            "model.pth:  87% 860M/989M [00:20<00:03, 41.8MB/s]\u001b[A\n",
            "model.pth:  88% 870M/989M [00:20<00:02, 41.9MB/s]\u001b[A\n",
            "model.pth:  89% 881M/989M [00:21<00:02, 42.1MB/s]\u001b[A\n",
            "model.pth:  90% 891M/989M [00:21<00:02, 41.9MB/s]\u001b[A\n",
            "model.pth:  91% 902M/989M [00:21<00:02, 42.4MB/s]\u001b[A\n",
            "model.pth:  92% 912M/989M [00:21<00:01, 42.4MB/s]\u001b[A\n",
            "model.pth:  93% 923M/989M [00:22<00:01, 42.4MB/s]\u001b[A\n",
            "model.pth:  94% 933M/989M [00:22<00:01, 42.5MB/s]\u001b[A\n",
            "model.pth:  95% 944M/989M [00:22<00:01, 42.7MB/s]\u001b[A\n",
            "model.pth:  96% 954M/989M [00:22<00:00, 42.8MB/s]\u001b[A\n",
            "model.pth:  98% 965M/989M [00:23<00:00, 42.7MB/s]\u001b[A\n",
            "model.pth:  99% 975M/989M [00:23<00:00, 42.7MB/s]\u001b[A\n",
            "model.pth: 100% 989M/989M [00:23<00:00, 41.9MB/s]\n",
            "Download complete. Moving file to checkpoints/fish-speech-1.4/model.pth\n",
            "Fetching 8 files: 100% 8/8 [00:24<00:00,  3.02s/it]\n",
            "/content/checkpoints/fish-speech-1.4\n"
          ]
        }
      ],
      "source": [
        "# Install Hugging Face CLI if not already installed\n",
        "!pip install -q huggingface_hub\n",
        "\n",
        "# Download the model\n",
        "!huggingface-cli download fishaudio/fish-speech-1.4 --local-dir checkpoints/fish-speech-1.4/"
      ]
    },
    {
      "cell_type": "markdown",
      "metadata": {
        "id": "3p8bSdeQvfs6"
      },
      "source": [
        "## WebUI Inference\n",
        "\n",
        "Run the WebUI with Colab's port forwarding capabilities."
      ]
    },
    {
      "cell_type": "code",
      "execution_count": 4,
      "metadata": {
        "colab": {
          "base_uri": "https://localhost:8080/",
          "height": 86
        },
        "id": "tJbTyDU6vfs6",
        "outputId": "5f2b9824-81d8-4a6b-988c-de1d9248b514"
      },
      "outputs": [
        {
          "output_type": "stream",
          "name": "stdout",
          "text": [
            "\u001b[31mWarning: This function may stop working due to changes in browser security.\n",
            "Try `serve_kernel_port_as_iframe` instead. \u001b[0m\n"
          ]
        },
        {
          "output_type": "display_data",
          "data": {
            "text/plain": [
              "<IPython.core.display.Javascript object>"
            ],
            "application/javascript": [
              "(async (port, path, text, element) => {\n",
              "    if (!google.colab.kernel.accessAllowed) {\n",
              "      return;\n",
              "    }\n",
              "    element.appendChild(document.createTextNode(''));\n",
              "    const url = await google.colab.kernel.proxyPort(port);\n",
              "    const anchor = document.createElement('a');\n",
              "    anchor.href = new URL(path, url).toString();\n",
              "    anchor.target = '_blank';\n",
              "    anchor.setAttribute('data-href', url + path);\n",
              "    anchor.textContent = text;\n",
              "    element.appendChild(anchor);\n",
              "  })(7860, \"/\", \"https://localhost:7860/\", window.element)"
            ]
          },
          "metadata": {}
        },
        {
          "output_type": "stream",
          "name": "stdout",
          "text": [
            "python3: can't open file '/content/tools/webui.py': [Errno 2] No such file or directory\n"
          ]
        }
      ],
      "source": [
        "# For Colab, we need to use port forwarding\n",
        "from google.colab import output\n",
        "output.serve_kernel_port_as_window(7860)\n",
        "\n",
        "!python tools/webui.py \\\n",
        "    --llama-checkpoint-path checkpoints/fish-speech-1.4 \\\n",
        "    --decoder-checkpoint-path checkpoints/fish-speech-1.4/firefly-gan-vq-fsq-8x1024-21hz-generator.pth \\\n",
        "    --share  # This enables Gradio's public URL feature"
      ]
    },
    {
      "cell_type": "markdown",
      "metadata": {
        "id": "AbTwSDTpvfs6"
      },
      "source": [
        "## Break-down CLI Inference\n",
        "\n",
        "### 1. Encode Reference Audio"
      ]
    },
    {
      "cell_type": "code",
      "execution_count": 6,
      "metadata": {
        "colab": {
          "base_uri": "https://localhost:8080/",
          "height": 412
        },
        "id": "lDQE1SVsvfs6",
        "outputId": "c3a2ea60-0a2d-4c1a-e3b5-87b9caefd27c"
      },
      "outputs": [
        {
          "output_type": "display_data",
          "data": {
            "text/plain": [
              "<IPython.core.display.HTML object>"
            ],
            "text/html": [
              "\n",
              "     <input type=\"file\" id=\"files-8564aa78-fa53-450a-a010-9cc9a3c23642\" name=\"files[]\" multiple disabled\n",
              "        style=\"border:none\" />\n",
              "     <output id=\"result-8564aa78-fa53-450a-a010-9cc9a3c23642\">\n",
              "      Upload widget is only available when the cell has been executed in the\n",
              "      current browser session. Please rerun this cell to enable.\n",
              "      </output>\n",
              "      <script>// Copyright 2017 Google LLC\n",
              "//\n",
              "// Licensed under the Apache License, Version 2.0 (the \"License\");\n",
              "// you may not use this file except in compliance with the License.\n",
              "// You may obtain a copy of the License at\n",
              "//\n",
              "//      http://www.apache.org/licenses/LICENSE-2.0\n",
              "//\n",
              "// Unless required by applicable law or agreed to in writing, software\n",
              "// distributed under the License is distributed on an \"AS IS\" BASIS,\n",
              "// WITHOUT WARRANTIES OR CONDITIONS OF ANY KIND, either express or implied.\n",
              "// See the License for the specific language governing permissions and\n",
              "// limitations under the License.\n",
              "\n",
              "/**\n",
              " * @fileoverview Helpers for google.colab Python module.\n",
              " */\n",
              "(function(scope) {\n",
              "function span(text, styleAttributes = {}) {\n",
              "  const element = document.createElement('span');\n",
              "  element.textContent = text;\n",
              "  for (const key of Object.keys(styleAttributes)) {\n",
              "    element.style[key] = styleAttributes[key];\n",
              "  }\n",
              "  return element;\n",
              "}\n",
              "\n",
              "// Max number of bytes which will be uploaded at a time.\n",
              "const MAX_PAYLOAD_SIZE = 100 * 1024;\n",
              "\n",
              "function _uploadFiles(inputId, outputId) {\n",
              "  const steps = uploadFilesStep(inputId, outputId);\n",
              "  const outputElement = document.getElementById(outputId);\n",
              "  // Cache steps on the outputElement to make it available for the next call\n",
              "  // to uploadFilesContinue from Python.\n",
              "  outputElement.steps = steps;\n",
              "\n",
              "  return _uploadFilesContinue(outputId);\n",
              "}\n",
              "\n",
              "// This is roughly an async generator (not supported in the browser yet),\n",
              "// where there are multiple asynchronous steps and the Python side is going\n",
              "// to poll for completion of each step.\n",
              "// This uses a Promise to block the python side on completion of each step,\n",
              "// then passes the result of the previous step as the input to the next step.\n",
              "function _uploadFilesContinue(outputId) {\n",
              "  const outputElement = document.getElementById(outputId);\n",
              "  const steps = outputElement.steps;\n",
              "\n",
              "  const next = steps.next(outputElement.lastPromiseValue);\n",
              "  return Promise.resolve(next.value.promise).then((value) => {\n",
              "    // Cache the last promise value to make it available to the next\n",
              "    // step of the generator.\n",
              "    outputElement.lastPromiseValue = value;\n",
              "    return next.value.response;\n",
              "  });\n",
              "}\n",
              "\n",
              "/**\n",
              " * Generator function which is called between each async step of the upload\n",
              " * process.\n",
              " * @param {string} inputId Element ID of the input file picker element.\n",
              " * @param {string} outputId Element ID of the output display.\n",
              " * @return {!Iterable<!Object>} Iterable of next steps.\n",
              " */\n",
              "function* uploadFilesStep(inputId, outputId) {\n",
              "  const inputElement = document.getElementById(inputId);\n",
              "  inputElement.disabled = false;\n",
              "\n",
              "  const outputElement = document.getElementById(outputId);\n",
              "  outputElement.innerHTML = '';\n",
              "\n",
              "  const pickedPromise = new Promise((resolve) => {\n",
              "    inputElement.addEventListener('change', (e) => {\n",
              "      resolve(e.target.files);\n",
              "    });\n",
              "  });\n",
              "\n",
              "  const cancel = document.createElement('button');\n",
              "  inputElement.parentElement.appendChild(cancel);\n",
              "  cancel.textContent = 'Cancel upload';\n",
              "  const cancelPromise = new Promise((resolve) => {\n",
              "    cancel.onclick = () => {\n",
              "      resolve(null);\n",
              "    };\n",
              "  });\n",
              "\n",
              "  // Wait for the user to pick the files.\n",
              "  const files = yield {\n",
              "    promise: Promise.race([pickedPromise, cancelPromise]),\n",
              "    response: {\n",
              "      action: 'starting',\n",
              "    }\n",
              "  };\n",
              "\n",
              "  cancel.remove();\n",
              "\n",
              "  // Disable the input element since further picks are not allowed.\n",
              "  inputElement.disabled = true;\n",
              "\n",
              "  if (!files) {\n",
              "    return {\n",
              "      response: {\n",
              "        action: 'complete',\n",
              "      }\n",
              "    };\n",
              "  }\n",
              "\n",
              "  for (const file of files) {\n",
              "    const li = document.createElement('li');\n",
              "    li.append(span(file.name, {fontWeight: 'bold'}));\n",
              "    li.append(span(\n",
              "        `(${file.type || 'n/a'}) - ${file.size} bytes, ` +\n",
              "        `last modified: ${\n",
              "            file.lastModifiedDate ? file.lastModifiedDate.toLocaleDateString() :\n",
              "                                    'n/a'} - `));\n",
              "    const percent = span('0% done');\n",
              "    li.appendChild(percent);\n",
              "\n",
              "    outputElement.appendChild(li);\n",
              "\n",
              "    const fileDataPromise = new Promise((resolve) => {\n",
              "      const reader = new FileReader();\n",
              "      reader.onload = (e) => {\n",
              "        resolve(e.target.result);\n",
              "      };\n",
              "      reader.readAsArrayBuffer(file);\n",
              "    });\n",
              "    // Wait for the data to be ready.\n",
              "    let fileData = yield {\n",
              "      promise: fileDataPromise,\n",
              "      response: {\n",
              "        action: 'continue',\n",
              "      }\n",
              "    };\n",
              "\n",
              "    // Use a chunked sending to avoid message size limits. See b/62115660.\n",
              "    let position = 0;\n",
              "    do {\n",
              "      const length = Math.min(fileData.byteLength - position, MAX_PAYLOAD_SIZE);\n",
              "      const chunk = new Uint8Array(fileData, position, length);\n",
              "      position += length;\n",
              "\n",
              "      const base64 = btoa(String.fromCharCode.apply(null, chunk));\n",
              "      yield {\n",
              "        response: {\n",
              "          action: 'append',\n",
              "          file: file.name,\n",
              "          data: base64,\n",
              "        },\n",
              "      };\n",
              "\n",
              "      let percentDone = fileData.byteLength === 0 ?\n",
              "          100 :\n",
              "          Math.round((position / fileData.byteLength) * 100);\n",
              "      percent.textContent = `${percentDone}% done`;\n",
              "\n",
              "    } while (position < fileData.byteLength);\n",
              "  }\n",
              "\n",
              "  // All done.\n",
              "  yield {\n",
              "    response: {\n",
              "      action: 'complete',\n",
              "    }\n",
              "  };\n",
              "}\n",
              "\n",
              "scope.google = scope.google || {};\n",
              "scope.google.colab = scope.google.colab || {};\n",
              "scope.google.colab._files = {\n",
              "  _uploadFiles,\n",
              "  _uploadFilesContinue,\n",
              "};\n",
              "})(self);\n",
              "</script> "
            ]
          },
          "metadata": {}
        },
        {
          "output_type": "stream",
          "name": "stdout",
          "text": [
            "Saving jap_speaker_1.wav to jap_speaker_1.wav\n",
            "python3: can't open file '/content/tools/vqgan/inference.py': [Errno 2] No such file or directory\n"
          ]
        },
        {
          "output_type": "error",
          "ename": "FileNotFoundError",
          "evalue": "[Errno 2] No such file or directory: 'fake.wav'",
          "traceback": [
            "\u001b[0;31m---------------------------------------------------------------------------\u001b[0m",
            "\u001b[0;31mFileNotFoundError\u001b[0m                         Traceback (most recent call last)",
            "\u001b[0;32m<ipython-input-6-7916295f04a5>\u001b[0m in \u001b[0;36m<cell line: 9>\u001b[0;34m()\u001b[0m\n\u001b[1;32m      7\u001b[0m \u001b[0;34m\u001b[0m\u001b[0m\n\u001b[1;32m      8\u001b[0m \u001b[0;32mfrom\u001b[0m \u001b[0mIPython\u001b[0m\u001b[0;34m.\u001b[0m\u001b[0mdisplay\u001b[0m \u001b[0;32mimport\u001b[0m \u001b[0mAudio\u001b[0m\u001b[0;34m,\u001b[0m \u001b[0mdisplay\u001b[0m\u001b[0;34m\u001b[0m\u001b[0;34m\u001b[0m\u001b[0m\n\u001b[0;32m----> 9\u001b[0;31m \u001b[0maudio\u001b[0m \u001b[0;34m=\u001b[0m \u001b[0mAudio\u001b[0m\u001b[0;34m(\u001b[0m\u001b[0mfilename\u001b[0m\u001b[0;34m=\u001b[0m\u001b[0;34m\"fake.wav\"\u001b[0m\u001b[0;34m)\u001b[0m\u001b[0;34m\u001b[0m\u001b[0;34m\u001b[0m\u001b[0m\n\u001b[0m\u001b[1;32m     10\u001b[0m \u001b[0mdisplay\u001b[0m\u001b[0;34m(\u001b[0m\u001b[0maudio\u001b[0m\u001b[0;34m)\u001b[0m\u001b[0;34m\u001b[0m\u001b[0;34m\u001b[0m\u001b[0m\n",
            "\u001b[0;32m/usr/local/lib/python3.10/dist-packages/IPython/lib/display.py\u001b[0m in \u001b[0;36m__init__\u001b[0;34m(self, data, filename, url, embed, rate, autoplay, normalize, element_id)\u001b[0m\n\u001b[1;32m    110\u001b[0m         \u001b[0mself\u001b[0m\u001b[0;34m.\u001b[0m\u001b[0mautoplay\u001b[0m \u001b[0;34m=\u001b[0m \u001b[0mautoplay\u001b[0m\u001b[0;34m\u001b[0m\u001b[0;34m\u001b[0m\u001b[0m\n\u001b[1;32m    111\u001b[0m         \u001b[0mself\u001b[0m\u001b[0;34m.\u001b[0m\u001b[0melement_id\u001b[0m \u001b[0;34m=\u001b[0m \u001b[0melement_id\u001b[0m\u001b[0;34m\u001b[0m\u001b[0;34m\u001b[0m\u001b[0m\n\u001b[0;32m--> 112\u001b[0;31m         \u001b[0msuper\u001b[0m\u001b[0;34m(\u001b[0m\u001b[0mAudio\u001b[0m\u001b[0;34m,\u001b[0m \u001b[0mself\u001b[0m\u001b[0;34m)\u001b[0m\u001b[0;34m.\u001b[0m\u001b[0m__init__\u001b[0m\u001b[0;34m(\u001b[0m\u001b[0mdata\u001b[0m\u001b[0;34m=\u001b[0m\u001b[0mdata\u001b[0m\u001b[0;34m,\u001b[0m \u001b[0murl\u001b[0m\u001b[0;34m=\u001b[0m\u001b[0murl\u001b[0m\u001b[0;34m,\u001b[0m \u001b[0mfilename\u001b[0m\u001b[0;34m=\u001b[0m\u001b[0mfilename\u001b[0m\u001b[0;34m)\u001b[0m\u001b[0;34m\u001b[0m\u001b[0;34m\u001b[0m\u001b[0m\n\u001b[0m\u001b[1;32m    113\u001b[0m \u001b[0;34m\u001b[0m\u001b[0m\n\u001b[1;32m    114\u001b[0m         \u001b[0;32mif\u001b[0m \u001b[0mself\u001b[0m\u001b[0;34m.\u001b[0m\u001b[0mdata\u001b[0m \u001b[0;32mis\u001b[0m \u001b[0;32mnot\u001b[0m \u001b[0;32mNone\u001b[0m \u001b[0;32mand\u001b[0m \u001b[0;32mnot\u001b[0m \u001b[0misinstance\u001b[0m\u001b[0;34m(\u001b[0m\u001b[0mself\u001b[0m\u001b[0;34m.\u001b[0m\u001b[0mdata\u001b[0m\u001b[0;34m,\u001b[0m \u001b[0mbytes\u001b[0m\u001b[0;34m)\u001b[0m\u001b[0;34m:\u001b[0m\u001b[0;34m\u001b[0m\u001b[0;34m\u001b[0m\u001b[0m\n",
            "\u001b[0;32m/usr/local/lib/python3.10/dist-packages/IPython/core/display.py\u001b[0m in \u001b[0;36m__init__\u001b[0;34m(self, data, url, filename, metadata)\u001b[0m\n\u001b[1;32m    635\u001b[0m             \u001b[0mself\u001b[0m\u001b[0;34m.\u001b[0m\u001b[0mmetadata\u001b[0m \u001b[0;34m=\u001b[0m \u001b[0;34m{\u001b[0m\u001b[0;34m}\u001b[0m\u001b[0;34m\u001b[0m\u001b[0;34m\u001b[0m\u001b[0m\n\u001b[1;32m    636\u001b[0m \u001b[0;34m\u001b[0m\u001b[0m\n\u001b[0;32m--> 637\u001b[0;31m         \u001b[0mself\u001b[0m\u001b[0;34m.\u001b[0m\u001b[0mreload\u001b[0m\u001b[0;34m(\u001b[0m\u001b[0;34m)\u001b[0m\u001b[0;34m\u001b[0m\u001b[0;34m\u001b[0m\u001b[0m\n\u001b[0m\u001b[1;32m    638\u001b[0m         \u001b[0mself\u001b[0m\u001b[0;34m.\u001b[0m\u001b[0m_check_data\u001b[0m\u001b[0;34m(\u001b[0m\u001b[0;34m)\u001b[0m\u001b[0;34m\u001b[0m\u001b[0;34m\u001b[0m\u001b[0m\n\u001b[1;32m    639\u001b[0m \u001b[0;34m\u001b[0m\u001b[0m\n",
            "\u001b[0;32m/usr/local/lib/python3.10/dist-packages/IPython/lib/display.py\u001b[0m in \u001b[0;36mreload\u001b[0;34m(self)\u001b[0m\n\u001b[1;32m    121\u001b[0m         \u001b[0;32mimport\u001b[0m \u001b[0mmimetypes\u001b[0m\u001b[0;34m\u001b[0m\u001b[0;34m\u001b[0m\u001b[0m\n\u001b[1;32m    122\u001b[0m         \u001b[0;32mif\u001b[0m \u001b[0mself\u001b[0m\u001b[0;34m.\u001b[0m\u001b[0membed\u001b[0m\u001b[0;34m:\u001b[0m\u001b[0;34m\u001b[0m\u001b[0;34m\u001b[0m\u001b[0m\n\u001b[0;32m--> 123\u001b[0;31m             \u001b[0msuper\u001b[0m\u001b[0;34m(\u001b[0m\u001b[0mAudio\u001b[0m\u001b[0;34m,\u001b[0m \u001b[0mself\u001b[0m\u001b[0;34m)\u001b[0m\u001b[0;34m.\u001b[0m\u001b[0mreload\u001b[0m\u001b[0;34m(\u001b[0m\u001b[0;34m)\u001b[0m\u001b[0;34m\u001b[0m\u001b[0;34m\u001b[0m\u001b[0m\n\u001b[0m\u001b[1;32m    124\u001b[0m \u001b[0;34m\u001b[0m\u001b[0m\n\u001b[1;32m    125\u001b[0m         \u001b[0;32mif\u001b[0m \u001b[0mself\u001b[0m\u001b[0;34m.\u001b[0m\u001b[0mfilename\u001b[0m \u001b[0;32mis\u001b[0m \u001b[0;32mnot\u001b[0m \u001b[0;32mNone\u001b[0m\u001b[0;34m:\u001b[0m\u001b[0;34m\u001b[0m\u001b[0;34m\u001b[0m\u001b[0m\n",
            "\u001b[0;32m/usr/local/lib/python3.10/dist-packages/IPython/core/display.py\u001b[0m in \u001b[0;36mreload\u001b[0;34m(self)\u001b[0m\n\u001b[1;32m    660\u001b[0m         \u001b[0;34m\"\"\"Reload the raw data from file or URL.\"\"\"\u001b[0m\u001b[0;34m\u001b[0m\u001b[0;34m\u001b[0m\u001b[0m\n\u001b[1;32m    661\u001b[0m         \u001b[0;32mif\u001b[0m \u001b[0mself\u001b[0m\u001b[0;34m.\u001b[0m\u001b[0mfilename\u001b[0m \u001b[0;32mis\u001b[0m \u001b[0;32mnot\u001b[0m \u001b[0;32mNone\u001b[0m\u001b[0;34m:\u001b[0m\u001b[0;34m\u001b[0m\u001b[0;34m\u001b[0m\u001b[0m\n\u001b[0;32m--> 662\u001b[0;31m             \u001b[0;32mwith\u001b[0m \u001b[0mopen\u001b[0m\u001b[0;34m(\u001b[0m\u001b[0mself\u001b[0m\u001b[0;34m.\u001b[0m\u001b[0mfilename\u001b[0m\u001b[0;34m,\u001b[0m \u001b[0mself\u001b[0m\u001b[0;34m.\u001b[0m\u001b[0m_read_flags\u001b[0m\u001b[0;34m)\u001b[0m \u001b[0;32mas\u001b[0m \u001b[0mf\u001b[0m\u001b[0;34m:\u001b[0m\u001b[0;34m\u001b[0m\u001b[0;34m\u001b[0m\u001b[0m\n\u001b[0m\u001b[1;32m    663\u001b[0m                 \u001b[0mself\u001b[0m\u001b[0;34m.\u001b[0m\u001b[0mdata\u001b[0m \u001b[0;34m=\u001b[0m \u001b[0mf\u001b[0m\u001b[0;34m.\u001b[0m\u001b[0mread\u001b[0m\u001b[0;34m(\u001b[0m\u001b[0;34m)\u001b[0m\u001b[0;34m\u001b[0m\u001b[0;34m\u001b[0m\u001b[0m\n\u001b[1;32m    664\u001b[0m         \u001b[0;32melif\u001b[0m \u001b[0mself\u001b[0m\u001b[0;34m.\u001b[0m\u001b[0murl\u001b[0m \u001b[0;32mis\u001b[0m \u001b[0;32mnot\u001b[0m \u001b[0;32mNone\u001b[0m\u001b[0;34m:\u001b[0m\u001b[0;34m\u001b[0m\u001b[0;34m\u001b[0m\u001b[0m\n",
            "\u001b[0;31mFileNotFoundError\u001b[0m: [Errno 2] No such file or directory: 'fake.wav'"
          ]
        }
      ],
      "source": [
        "# Upload your audio file using Colab's file uploader\n",
        "from google.colab import files\n",
        "uploaded = files.upload()\n",
        "src_audio = next(iter(uploaded.keys()))  # Get the filename of the uploaded file\n",
        "\n",
        "!python tools/vqgan/inference.py \\\n",
        "    -i {src_audio} \\\n",
        "    --checkpoint-path \"checkpoints/fish-speech-1.4/firefly-gan-vq-fsq-8x1024-21hz-generator.pth\"\n",
        "\n"
      ]
    },
    {
      "cell_type": "code",
      "source": [
        "from IPython.display import Audio, display\n",
        "audio = Audio(filename=\"jap_speaker_1.wav\")\n",
        "display(audio)"
      ],
      "metadata": {
        "id": "K0Za9Zkl2-jj"
      },
      "execution_count": 7,
      "outputs": []
    },
    {
      "cell_type": "markdown",
      "metadata": {
        "id": "gnaiLslevfs6"
      },
      "source": [
        "### 2. Generate Semantic Tokens from Text"
      ]
    },
    {
      "cell_type": "code",
      "execution_count": null,
      "metadata": {
        "id": "KV_Rf7ADvfs6"
      },
      "outputs": [],
      "source": [
        "!python tools/llama/generate.py \\\n",
        "    --text \"\"\"\n",
        "    この動画を 作成してくれてありがとうございました！\n",
        "    とても聞きやすいです\n",
        "    私の好きな日本の食べ物は油そばです。大好きです！\n",
        "    次の動画を見るのを楽しみにしています。\n",
        "    \"\"\" \\\n",
        "    --prompt-text \"The text corresponding to reference audio\" \\\n",
        "    --prompt-tokens \"fake.npy\" \\\n",
        "    --checkpoint-path \"checkpoints/fish-speech-1.4\" \\\n",
        "    --num-samples 2"
      ]
    },
    {
      "cell_type": "markdown",
      "metadata": {
        "id": "S1d5CuYavfs6"
      },
      "source": [
        "### 3. Generate Speech from Semantic Tokens"
      ]
    },
    {
      "cell_type": "code",
      "execution_count": null,
      "metadata": {
        "colab": {
          "base_uri": "https://localhost:8080/"
        },
        "id": "c3YKqckYvfs7",
        "outputId": "a0a33791-3cf3-4204-fdec-a31ee760363d"
      },
      "outputs": [
        {
          "output_type": "stream",
          "name": "stdout",
          "text": [
            "python3: can't open file '/content/tools/vqgan/inference.py': [Errno 2] No such file or directory\n"
          ]
        }
      ],
      "source": [
        "!python tools/vqgan/inference.py \\\n",
        "    -i \"codes_0.npy\" \\\n",
        "    --checkpoint-path \"checkpoints/fish-speech-1.4/firefly-gan-vq-fsq-8x1024-21hz-generator.pth\"\n",
        "\n",
        "from IPython.display import Audio, display\n",
        "audio = Audio(filename=\"jap_speaker_1.wav\")\n",
        "display(audio)"
      ]
    },
    {
      "cell_type": "code",
      "source": [],
      "metadata": {
        "id": "MAfLZQCm4GH_"
      },
      "execution_count": null,
      "outputs": []
    }
  ],
  "metadata": {
    "accelerator": "GPU",
    "colab": {
      "provenance": [],
      "include_colab_link": true
    },
    "kernelspec": {
      "display_name": "Python 3",
      "language": "python",
      "name": "python3"
    },
    "language_info": {
      "codemirror_mode": {
        "name": "ipython",
        "version": 3
      },
      "file_extension": ".py",
      "mimetype": "text/x-python",
      "name": "python",
      "nbconvert_exporter": "python",
      "pygments_lexer": "ipython3",
      "version": "3.10.0"
    }
  },
  "nbformat": 4,
  "nbformat_minor": 0
}